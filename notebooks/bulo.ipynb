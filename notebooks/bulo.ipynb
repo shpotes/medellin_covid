{
 "cells": [
  {
   "cell_type": "code",
   "execution_count": 2,
   "metadata": {},
   "outputs": [],
   "source": [
    "from bs4 import BeautifulSoup\n",
    "from bs4.element import Comment\n",
    "import urllib.request\n",
    "import re"
   ]
  },
  {
   "cell_type": "code",
   "execution_count": 3,
   "metadata": {},
   "outputs": [],
   "source": [
    "def tag_visible(element):\n",
    "    if element.parent.name in ['style', 'script', 'head', 'title', 'meta', '[document]']:\n",
    "        return False\n",
    "    if isinstance(element, Comment):\n",
    "        return False\n",
    "    return True\n",
    "\n",
    "\n",
    "def text_from_html(body):\n",
    "    soup = BeautifulSoup(body, 'html.parser')\n",
    "    texts = soup.findAll(text=True)\n",
    "    visible_texts = filter(tag_visible, texts)  \n",
    "    return u\" \".join(t.strip() for t in visible_texts)"
   ]
  },
  {
   "cell_type": "code",
   "execution_count": 4,
   "metadata": {},
   "outputs": [],
   "source": [
    "class Reporte:\n",
    "    def __init__(self, url, date):\n",
    "        html = urllib.request.urlopen(url).read()\n",
    "        informe_web = text_from_html(html)\n",
    "        self.informe_web = informe_web.replace('.', '')\n",
    "        self.date = date\n",
    "        \n",
    "        self.new_ant, self.new_med = self.get_new_cases()\n",
    "        self.dead_ant, self.dead_med = self.get_dead()\n",
    "        self.act_ant, self.act_med = self.get_act()\n",
    "        self.rec_ant, self.rec_med = self.get_rec()\n",
    "    \n",
    "    def __str__(self):\n",
    "        return self.date\n",
    "    \n",
    "    def __repr__(self):\n",
    "        return self.date\n",
    "    \n",
    "    def get_new_cases(self):\n",
    "        regex = re.compile(r'El informe de hoy registra (\\d+) casos nuevos en el departamento De ellos en Medellín hay \\((\\d+)\\)')\n",
    "        match = regex.search(self.informe_web)\n",
    "\n",
    "        ant = int(match.group(1))\n",
    "        med = int(match.group(2))\n",
    "        \n",
    "        return ant, med\n",
    "\n",
    "    def get_dead(self):\n",
    "        regex = re.compile(r'Hoy se reportan (\\d+) fallecidos En Medellín hay \\((\\d+)\\) de ellos')\n",
    "        match = regex.search(self.informe_web)\n",
    "        \n",
    "        ant = int(match.group(1))\n",
    "        med = int(match.group(2))\n",
    "        \n",
    "        return ant, med\n",
    "    \n",
    "    def get_act(self):\n",
    "        ant_regex = re.compile(r'El informe indica que, a la fecha, hay (\\d+) casos activos en el departamento')\n",
    "        med_regex = re.compile(r'De los activos, en Medellín hay (\\d+) casos')\n",
    "        \n",
    "        ant = int(ant_regex.search(self.informe_web).group(1))\n",
    "        med = int(med_regex.search(self.informe_web).group(1))\n",
    "        \n",
    "        return ant, med\n",
    "    \n",
    "    def get_rec(self):\n",
    "        regex = re.compile(r'De acuerdo con el informe, las (\\d+) personas recuperadas en el departamento están distribuidas así: Medellín \\((\\d+)\\)')\n",
    "        match = regex.search(self.informe_web)\n",
    "        \n",
    "        ant = int(match.group(1))\n",
    "        med = int(match.group(2))\n",
    "        \n",
    "        return ant, med\n",
    "    \n",
    "    def assert_consistency(self, other):\n",
    "        return self.assert_consistency_med(other), self.assert_consistency_ant(other)\n",
    "        \n",
    "    def assert_consistency_med(self, past):\n",
    "        curr = past.act_med + self.new_med - self.dead_med - (self.rec_med - past.rec_med)\n",
    "\n",
    "        if self.act_med != curr:\n",
    "            return self.act_med - curr\n",
    "        else:\n",
    "            print('pass')\n",
    "            return 0\n",
    "    \n",
    "    def assert_consistency_ant(self, past):\n",
    "        curr = past.act_ant + self.new_ant - self.dead_ant - (self.rec_ant - past.rec_ant)\n",
    "\n",
    "        if self.act_ant != curr:\n",
    "            return self.act_ant - curr\n",
    "        else:\n",
    "            print('pass')\n",
    "            return 0"
   ]
  },
  {
   "cell_type": "code",
   "execution_count": 5,
   "metadata": {},
   "outputs": [],
   "source": [
    "nov_8 = Reporte(\n",
    "    'https://dssa.gov.co/index.php/situacion-actual-coronavirus-en-antioquia/item/1386-con-1-706-casos-nuevos-registrados-hoy-el-numero-de-contagiados-por-covid-19-en-antioquia-se-eleva-a-183-991', \n",
    "    'Domingo, 08 Noviembre 2020'\n",
    ")\n",
    "nov_7 = Reporte(\n",
    "    'https://dssa.gov.co/index.php/situacion-actual-coronavirus-en-antioquia/item/1385-con-1-765-casos-nuevos-registrados-hoy-el-numero-de-contagiados-por-covid-19-en-antioquia-se-eleva-a-182-285',\n",
    "    'Sábado, 07 Noviembre 2020'\n",
    ")"
   ]
  },
  {
   "cell_type": "code",
   "execution_count": 6,
   "metadata": {},
   "outputs": [
    {
     "data": {
      "text/plain": [
       "(-3, -2)"
      ]
     },
     "execution_count": 6,
     "metadata": {},
     "output_type": "execute_result"
    }
   ],
   "source": [
    "nov_8.assert_consistency(nov_7)"
   ]
  },
  {
   "cell_type": "code",
   "execution_count": null,
   "metadata": {},
   "outputs": [],
   "source": []
  }
 ],
 "metadata": {
  "kernelspec": {
   "display_name": "Python 3",
   "language": "python",
   "name": "python3"
  },
  "language_info": {
   "codemirror_mode": {
    "name": "ipython",
    "version": 3
   },
   "file_extension": ".py",
   "mimetype": "text/x-python",
   "name": "python",
   "nbconvert_exporter": "python",
   "pygments_lexer": "ipython3",
   "version": "3.8.5"
  }
 },
 "nbformat": 4,
 "nbformat_minor": 4
}
